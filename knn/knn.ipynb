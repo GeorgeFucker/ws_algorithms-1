{
 "cells": [
  {
   "cell_type": "markdown",
   "metadata": {
    "collapsed": true
   },
   "source": [
    "# KNN"
   ]
  },
  {
   "cell_type": "code",
   "execution_count": 30,
   "metadata": {
    "collapsed": true
   },
   "outputs": [],
   "source": [
    "import numpy as np\n",
    "import pandas as pd\n",
    "import time\n",
    "from scipy.spatial.distance import euclidean\n",
    "from scipy import stats\n",
    "from matplotlib import pyplot as plt"
   ]
  },
  {
   "cell_type": "markdown",
   "metadata": {},
   "source": [
    "## Roadmap\n",
    "1. Calculate all distancies between known and unknown points\n",
    "2. Predict class of unknown point by the k nearest neighbours\n",
    "\n"
   ]
  },
  {
   "cell_type": "code",
   "execution_count": 31,
   "metadata": {
    "collapsed": true
   },
   "outputs": [],
   "source": [
    "def calc_all_distancies(data_x, unknown):\n",
    "    '''\n",
    "        Function calculates distancies between each pairs of known and unknown points\n",
    "    '''\n",
    "    num_pred = unknown.shape[0]\n",
    "    num_data = data_x.shape[0]\n",
    "    dists = np.zeros((num_pred, num_data))\n",
    "    \n",
    "    for i in range(num_pred):\n",
    "        for j in range(num_data):\n",
    "            dists[i, j] = euclidean(unknown[i], data_x[j])\n",
    "    \n",
    "    return dists        "
   ]
  },
  {
   "cell_type": "code",
   "execution_count": 32,
   "metadata": {
    "collapsed": true
   },
   "outputs": [],
   "source": [
    "def predict(dists, data_y, k):\n",
    "    '''\n",
    "        Function predicts the class of the unknown point by the k nearest neighbours\n",
    "    '''\n",
    "    num_pred = dists.shape[0]\n",
    "    y_pred = np.zeros(num_pred)\n",
    "    \n",
    "    for i in range(num_pred):\n",
    "        dst = dists[i]\n",
    "        ind_k = np.argsort(dst)[:k]\n",
    "        y_nearest = data_y[ind_k]\n",
    "        y_pred[i] = stats.mode(y_nearest, axis = None).mode\n",
    "        \n",
    "    return y_pred"
   ]
  },
  {
   "cell_type": "code",
   "execution_count": 33,
   "metadata": {
    "collapsed": true
   },
   "outputs": [],
   "source": [
    "def accuracy(predicted,real):\n",
    "    '''\n",
    "        Calculates accuracy percentage\n",
    "    '''\n",
    "    l = len(real)\n",
    "    s = sum(predicted == real)\n",
    "    \n",
    "    return s / l * 100"
   ]
  },
  {
   "cell_type": "code",
   "execution_count": 34,
   "metadata": {
    "collapsed": true
   },
   "outputs": [],
   "source": [
    "def compare_k(data_x, data_y, test_x, test_y, kmin=1, kmax=50, kstep=4):\n",
    "    '''\n",
    "        Main comparing function\n",
    "    '''\n",
    "    k = list(range(kmin, kmax, kstep))\n",
    "    steps = len(k)\n",
    "    features = np.zeros((steps,3))\n",
    "    \n",
    "    print('Evaluating distancies started')\n",
    "    \n",
    "    t0 = time.time()\n",
    "    distancies = calc_all_distancies(data_x,test_x)\n",
    "    miss = []\n",
    "    t = time.time()\n",
    "    s1 = data_x.shape[0]\n",
    "    s2 = test_x.shape[0]\n",
    "    \n",
    "    print('Distancies completed in %d seconds for %dx%d' %(t-t0,s1,s2))\n",
    "    \n",
    "    for j in range(steps):\n",
    "        t0 = time.time()\n",
    "        yk = predict(distancies,data_y,k[j])\n",
    "        t = time.time() - t0\n",
    "        features[j][0] = k[j]\n",
    "        features[j][1] = accuracy(yk,test_y)\n",
    "        features[j][2] = t\n",
    "        cond = yk!=test_y\n",
    "        miss.append({\n",
    "            'k':k[j],\n",
    "            'acc':features[j][1],\n",
    "            'x':test_x[cond]}\n",
    "        )\n",
    "        \n",
    "        print('k={0}, accuracy = {1}%, time = {2} sec'.format(k[j],features[j][1],features[j][2]))\n",
    "        \n",
    "    return features, miss"
   ]
  },
  {
   "cell_type": "code",
   "execution_count": 43,
   "metadata": {
    "collapsed": true
   },
   "outputs": [],
   "source": [
    "num_observations = 300\n",
    "x1 = np.random.multivariate_normal([0, 0], [[1, .75], [.75, 1]], num_observations)\n",
    "x2 = np.random.multivariate_normal([-2, 3], [[2, .75], [.75, 2]], num_observations)\n",
    "\n",
    "\n",
    "X = np.vstack((x1, x2)).astype(np.float32)\n",
    "Y = np.hstack((np.zeros(num_observations),\n",
    "               np.ones(num_observations)))\n",
    "\n"
   ]
  },
  {
   "cell_type": "markdown",
   "metadata": {},
   "source": [
    "## Select some part of data to be tested"
   ]
  },
  {
   "cell_type": "code",
   "execution_count": 44,
   "metadata": {},
   "outputs": [
    {
     "name": "stdout",
     "output_type": "stream",
     "text": [
      "(402, 2) (402,) (198, 2) (198,)\n"
     ]
    }
   ],
   "source": [
    "X = np.vstack((x1, x2)).astype(np.float32)\n",
    "Y = np.hstack((np.zeros(num_observations),\n",
    "               np.ones(num_observations)))\n",
    "\n",
    "ratio = 0.67\n",
    "l = len(X)\n",
    "n_trn = int(ratio * l)\n",
    "ind = np.random.permutation(l)\n",
    "X = X[ind]\n",
    "Y = Y[ind]\n",
    "\n",
    "x_trn = X[:n_trn]\n",
    "y_trn = Y[:n_trn]\n",
    "x_tst = X[n_trn:]\n",
    "y_tst = Y[n_trn:]\n",
    "print(x_trn.shape, y_trn.shape, x_tst.shape, y_tst.shape)"
   ]
  },
  {
   "cell_type": "markdown",
   "metadata": {},
   "source": [
    "## Calculate distancies & compare result for different k"
   ]
  },
  {
   "cell_type": "code",
   "execution_count": 45,
   "metadata": {},
   "outputs": [
    {
     "name": "stdout",
     "output_type": "stream",
     "text": [
      "Evaluating distancies started\n",
      "Distancies completed in 0 seconds for 402x198\n",
      "k=1, accuracy = 98.48484848484848%, time = 0.013508796691894531 sec\n",
      "k=21, accuracy = 99.4949494949495%, time = 0.014022350311279297 sec\n",
      "k=41, accuracy = 98.98989898989899%, time = 0.014526605606079102 sec\n",
      "k=61, accuracy = 98.98989898989899%, time = 0.014007568359375 sec\n",
      "k=81, accuracy = 98.98989898989899%, time = 0.01599907875061035 sec\n",
      "k=101, accuracy = 98.48484848484848%, time = 0.01602911949157715 sec\n",
      "k=121, accuracy = 97.97979797979798%, time = 0.017003774642944336 sec\n",
      "k=141, accuracy = 97.47474747474747%, time = 0.01602911949157715 sec\n",
      "k=161, accuracy = 95.95959595959596%, time = 0.016515254974365234 sec\n",
      "k=181, accuracy = 95.45454545454545%, time = 0.017012357711791992 sec\n"
     ]
    }
   ],
   "source": [
    "res, ms = compare_k(x_trn, y_trn, x_tst, y_tst, 1, 201, 20)"
   ]
  },
  {
   "cell_type": "markdown",
   "metadata": {},
   "source": [
    "## Visualisation"
   ]
  },
  {
   "cell_type": "code",
   "execution_count": 46,
   "metadata": {},
   "outputs": [
    {
     "data": {
      "image/png": "[encoded data removed]",
      "text/plain": [
       "<matplotlib.figure.Figure at 0x23ae4185a90>"
      ]
     },
     "metadata": {},
     "output_type": "display_data"
    },
    {
     "data": {
      "image/png": "[encoded data removed]",
      "text/plain": [
       "<matplotlib.figure.Figure at 0x23ae417a7f0>"
      ]
     },
     "metadata": {},
     "output_type": "display_data"
    },
    {
     "data": {
      "image/png": "[encoded data removed]",
      "text/plain": [
       "<matplotlib.figure.Figure at 0x23ae57fa8d0>"
      ]
     },
     "metadata": {},
     "output_type": "display_data"
    }
   ],
   "source": [
    "# initial data\n",
    "fig = plt.figure()\n",
    "plt.scatter(x1[:, 0], x1[:, 1], color='c',label='class1')\n",
    "plt.scatter(x2[:, 0], x2[:, 1], color='y',label='class2')\n",
    "# randomly selected data\n",
    "plt.scatter(x_tst[:,0],x_tst[:,1],color='b',label='test')\n",
    "plt.legend(loc='best')\n",
    "\n",
    "\n",
    "# missidentifies for k = value\n",
    "plt.figure()\n",
    "plt.scatter(x1[:, 0], x1[:, 1], color='c', label='class1')\n",
    "plt.scatter(x2[:, 0], x2[:, 1], color='y', label='class2')\n",
    "plt.scatter(ms[-1]['x'][:,0],ms[-1]['x'][:,1],color='r',label='missidenity,k=%d'%ms[-1]['k'])\n",
    "plt.legend(loc='best')\n",
    "plt.xlabel('x1')\n",
    "plt.ylabel('x2')\n",
    "plt.figure()\n",
    "\n",
    "# accuracy plot\n",
    "k = plt.scatter(res[:, 0], res[:, 1])\n",
    "plt.ylim(min(res[:, 1]) - 2, max(res[:, 1])+1, 4)\n",
    "plt.xlabel('k')\n",
    "plt.ylabel('accuracy, %')\n",
    "plt.show()"
   ]
  },
  {
   "cell_type": "code",
   "execution_count": null,
   "metadata": {
    "collapsed": true
   },
   "outputs": [],
   "source": []
  }
 ],
 "metadata": {
  "kernelspec": {
   "display_name": "Python 3",
   "language": "python",
   "name": "python3"
  },
  "language_info": {
   "codemirror_mode": {
    "name": "ipython",
    "version": 3
   },
   "file_extension": ".py",
   "mimetype": "text/x-python",
   "name": "python",
   "nbconvert_exporter": "python",
   "pygments_lexer": "ipython3",
   "version": "3.6.3"
  }
 },
 "nbformat": 4,
 "nbformat_minor": 1
}
